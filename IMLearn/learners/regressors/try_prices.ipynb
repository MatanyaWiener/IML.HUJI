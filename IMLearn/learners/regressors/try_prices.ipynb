{
 "cells": [
  {
   "cell_type": "code",
   "execution_count": 3,
   "id": "c69d07e4-01fa-4a87-910d-efa811aa439a",
   "metadata": {},
   "outputs": [],
   "source": [
    "import os\n"
   ]
  },
  {
   "cell_type": "code",
   "execution_count": 7,
   "id": "278f1209-49d3-4796-af4c-7e1727025c06",
   "metadata": {},
   "outputs": [
    {
     "name": "stdout",
     "output_type": "stream",
     "text": [
      "C:\\Users\\wmata\\OneDrive\\Documents\\University\\Year2\\IML\\IML.HUJI\n"
     ]
    }
   ],
   "source": [
    "cd ../"
   ]
  },
  {
   "cell_type": "code",
   "execution_count": 8,
   "id": "2a7cc369-92e8-4982-ab4e-dd9b634b1a4a",
   "metadata": {},
   "outputs": [],
   "source": [
    "from IMLearn.utils import split_train_test\n",
    "from IMLearn.learners.regressors import LinearRegression\n",
    "import plotly.io as pio\n",
    "\n",
    "from typing import NoReturn\n",
    "import numpy as np\n",
    "import pandas as pd\n",
    "import plotly.graph_objects as go\n",
    "import plotly.express as px\n",
    "import plotly.io as pio\n",
    "pio.templates.default = \"simple_white\"\n"
   ]
  },
  {
   "cell_type": "code",
   "execution_count": null,
   "id": "0a36fdb1-f270-4cd2-b8b1-648a33505e5b",
   "metadata": {},
   "outputs": [],
   "source": [
    "def load_data(filename: str):\n",
    "    \"\"\"\n",
    "    Load house prices dataset and preprocess data.\n",
    "    Parameters\n",
    "    ----------\n",
    "    filename: str\n",
    "        Path to house prices dataset\n",
    "\n",
    "    Returns\n",
    "    -------\n",
    "    Design matrix and response vector (prices) - either as a single\n",
    "    DataFrame or a Tuple[DataFrame, Series]\n",
    "    \"\"\"\n",
    "    \n",
    "    df = pd.read_csv(r\"C:\\Users\\wmata\\OneDrive\\Documents\\University\\Year2\\IML\\IML.HUJI\\datasets\\house_prices.csv\")\n",
    "    df = pd.read_csv(filename)\n",
    "    \n",
    "    # Ceaning the data:\n",
    "    df = df[(df.price > 0) & (df.bathrooms > 0) & (df.bedrooms > 0) & (df.sqft_lot15 > 0)]  # removing weird values\n",
    "    df = pd.concat([df, pd.get_dummies(df.zipcode, drop_first = True)], axis = 1)\n",
    "    \n",
    "    df = df.drop(['date', 'id', 'zipcode'], 1) # Unecesary columns\n",
    "    df = df.dropna().reset_index()\n",
    "    df = df.drop(['index'], 1)\n",
    "    \n",
    "    y = df.price\n",
    "    X = df.drop([\"price\"], 1)\n",
    "    return X, y"
   ]
  }
 ],
 "metadata": {
  "kernelspec": {
   "display_name": "Python [conda env:iml.env] *",
   "language": "python",
   "name": "conda-env-iml.env-py"
  },
  "language_info": {
   "codemirror_mode": {
    "name": "ipython",
    "version": 3
   },
   "file_extension": ".py",
   "mimetype": "text/x-python",
   "name": "python",
   "nbconvert_exporter": "python",
   "pygments_lexer": "ipython3",
   "version": "3.7.11"
  }
 },
 "nbformat": 4,
 "nbformat_minor": 5
}
