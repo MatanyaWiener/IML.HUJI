{
 "cells": [
  {
   "cell_type": "code",
   "execution_count": 6,
   "id": "6615984f-1e4f-4860-bd76-6e46c6701135",
   "metadata": {},
   "outputs": [],
   "source": [
    "from typing import Tuple\n",
    "import numpy as np\n",
    "import pandas as pd\n",
    "import random"
   ]
  },
  {
   "cell_type": "code",
   "execution_count": 34,
   "id": "8465776c-50ad-41cf-855e-2a8dd7543540",
   "metadata": {},
   "outputs": [],
   "source": [
    "def split_train_test(X: pd.DataFrame, y: pd.Series, train_proportion: float = .75) \\\n",
    "        -> Tuple[pd.DataFrame, pd.Series, pd.DataFrame, pd.Series]:\n",
    "    \"\"\"\n",
    "    Randomly split given sample to a training- and testing sample\n",
    "\n",
    "    Parameters\n",
    "    ----------\n",
    "    X : DataFrame of shape (n_samples, n_features)\n",
    "        Data frame of samples and feature values.\n",
    "\n",
    "    y : Series of shape (n_samples, )\n",
    "        Responses corresponding samples in data frame.\n",
    "\n",
    "    train_proportion: Fraction of samples to be split as training set\n",
    "\n",
    "    Returns\n",
    "    -------\n",
    "    train_X : DataFrame of shape (ceil(train_proportion * n_samples), n_features)\n",
    "        Design matrix of train set\n",
    "\n",
    "    train_y : Series of shape (ceil(train_proportion * n_samples), )\n",
    "        Responses of training samples\n",
    "\n",
    "    test_X : DataFrame of shape (floor((1-train_proportion) * n_samples), n_features)\n",
    "        Design matrix of test set\n",
    "\n",
    "    test_y : Series of shape (floor((1-train_proportion) * n_samples), )\n",
    "        Responses of test samples\n",
    "\n",
    "    \"\"\"\n",
    "    \n",
    "    permut = random.permutation(X.shape[0])\n",
    "    X = X[permut]\n",
    "    y = y[permut]\n",
    "    \n",
    "    train_end_index = int(X.shape[0] * train_proportion) + 1\n",
    "    return X[:train_end_index] , y[:train_end_index], X[train_end_index:], y[train_end_index:]"
   ]
  },
  {
   "cell_type": "code",
   "execution_count": 29,
   "id": "e8ce335b-32bc-4687-ab35-c98ef4d17abf",
   "metadata": {
    "jupyter": {
     "source_hidden": true
    },
    "tags": []
   },
   "outputs": [],
   "source": [
    "X = np.arange(100).reshape((10,10))\n",
    "y =  np.arange(100)\n",
    "n = X.shape[0]\n",
    "train_proportion = 0.75\n",
    "permut = np.random.permutation(n)\n",
    "X = X[permut]\n",
    "y = y[permut]\n",
    "train_end_index = int(X.shape[0] * train_proportion)"
   ]
  },
  {
   "cell_type": "code",
   "execution_count": 33,
   "id": "526f8e6b-091e-44d8-8eb9-dd73c5766273",
   "metadata": {
    "collapsed": true,
    "jupyter": {
     "outputs_hidden": true
    },
    "tags": []
   },
   "outputs": [
    {
     "data": {
      "text/plain": [
       "array([[50, 51, 52, 53, 54, 55, 56, 57, 58, 59],\n",
       "       [ 0,  1,  2,  3,  4,  5,  6,  7,  8,  9],\n",
       "       [40, 41, 42, 43, 44, 45, 46, 47, 48, 49],\n",
       "       [80, 81, 82, 83, 84, 85, 86, 87, 88, 89],\n",
       "       [30, 31, 32, 33, 34, 35, 36, 37, 38, 39],\n",
       "       [20, 21, 22, 23, 24, 25, 26, 27, 28, 29],\n",
       "       [70, 71, 72, 73, 74, 75, 76, 77, 78, 79]])"
      ]
     },
     "execution_count": 33,
     "metadata": {},
     "output_type": "execute_result"
    }
   ],
   "source": [
    "X[:train_end_index] "
   ]
  },
  {
   "cell_type": "code",
   "execution_count": 31,
   "id": "770a6c36-545c-4fc5-9294-5886e88d3170",
   "metadata": {},
   "outputs": [
    {
     "data": {
      "text/plain": [
       "array([5, 0, 4, 8, 3, 2, 7])"
      ]
     },
     "execution_count": 31,
     "metadata": {},
     "output_type": "execute_result"
    }
   ],
   "source": [
    "y[:train_end_index,]"
   ]
  },
  {
   "cell_type": "code",
   "execution_count": null,
   "id": "fba1a0d4-46ed-4c6d-a898-8ca416ab985f",
   "metadata": {},
   "outputs": [],
   "source": []
  }
 ],
 "metadata": {
  "kernelspec": {
   "display_name": "Python [conda env:iml.env] *",
   "language": "python",
   "name": "conda-env-iml.env-py"
  },
  "language_info": {
   "codemirror_mode": {
    "name": "ipython",
    "version": 3
   },
   "file_extension": ".py",
   "mimetype": "text/x-python",
   "name": "python",
   "nbconvert_exporter": "python",
   "pygments_lexer": "ipython3",
   "version": "3.7.11"
  }
 },
 "nbformat": 4,
 "nbformat_minor": 5
}
