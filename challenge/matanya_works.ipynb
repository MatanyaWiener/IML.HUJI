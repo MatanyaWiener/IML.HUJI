{
 "cells": [
  {
   "cell_type": "code",
   "execution_count": 8,
   "id": "6a62a62b-9d68-498b-a1f5-97a02ec63b52",
   "metadata": {
    "jupyter": {
     "source_hidden": true
    },
    "tags": []
   },
   "outputs": [],
   "source": [
    "import sys\n",
    "import numpy as np\n",
    "import pandas as pd\n",
    "import plotly.graph_objects as go\n",
    "from plotly.subplots import make_subplots\n",
    "import plotly.express as px\n",
    "import plotly.io as pio\n",
    "# import seaborn as sns\n",
    "import matplotlib.pyplot as plt\n",
    "import datetime as dt\n",
    "import math\n",
    "sys.path.insert(1, '../')\n",
    "np.random.seed(0)\n",
    "\n",
    "# pio.templates.default = \"simple_white\"\n",
    "# pio.templates.default = \"plotly_white\"\n",
    "pio.renderers.default = \"notebook\""
   ]
  },
  {
   "cell_type": "code",
   "execution_count": 9,
   "id": "e57421a2-9297-4012-ab38-e03083130db3",
   "metadata": {
    "jupyter": {
     "source_hidden": true
    },
    "tags": []
   },
   "outputs": [],
   "source": [
    "exchange_rate = {'CNY': 6.9588, 'ZAR': 13.8691, 'KRW': 1120.456, 'SGD': 1.3718,\n",
    "                 'THB': 32.9627, 'ARS': 37.7315, 'TWD': 30.8448, 'SAR': 3.752,\n",
    "                 'USD': 1.0, 'MYR': 4.1797, 'SEK': 9.109, 'NZD': 1.4542,\n",
    "                 'HKD': 7.8236, 'VND': 4.4e-05, 'IDR': 14330.4526,\n",
    "                 'AUD': 1.3672, 'NOK': 8.5922, 'GBP': 0.7841, 'EUR': 0.8833,\n",
    "                 'JPY': 113.4941, 'INR': 69.6475, 'PHP': 52.411, 'AED': 3.673,\n",
    "                 'RUB': 67.0545, 'BHD': 0.377, 'CHF': 0.9984, 'OMR': 0.3851,\n",
    "                 'UAH': 28.3135, 'CAD': 1.3296, 'TRY': 5.2118, 'PLN': 3.7887,\n",
    "                 'ILS': 3.7211, 'PKR': 134.1847, 'DKK': 6.5934, 'RON': 4.1121,\n",
    "                 'LKR': 179.3797, 'JOD': 0.7095, 'KWD': 0.3042, 'QAR': 3.6409,\n",
    "                 'CZK': 22.9453, 'HUF': 285.9137, 'BRL': 3.8672,\n",
    "                 'EGP': 17.9113, 'FJD': 2.1133, 'MXN': 20.3997, 'BDT': 84.1851,\n",
    "                 'KZT': 375.1462, 'NGN': 365.7219, 'XPF': 105.4033,\n",
    "                 'KHR': 0.00025, 'LAK': 8.6e-05}\n",
    "\n",
    "def currency_convert_to_USD(value, currency):\n",
    "    \"\"\"\n",
    "    Receives a money amount and a currency and converts it to USD\n",
    "    :param value: The amount of money to convert\n",
    "    :param currency: The original currency\n",
    "    :return: The worth of this money in USD\n",
    "    \"\"\"\n",
    "    if (currency not in exchange_rate):\n",
    "        raise ValueError(\"The value of \" + currency + \" is not defined.\")\n",
    "    return value / exchange_rate[currency]\n"
   ]
  },
  {
   "cell_type": "code",
   "execution_count": 18,
   "id": "b448da4f-7b55-4afb-b5c6-af798b55ed52",
   "metadata": {
    "tags": []
   },
   "outputs": [],
   "source": [
    "categorical_features = [\n",
    "    'hotel_country_code',\n",
    "    'accommadation_type_name',\n",
    "    'charge_option',\n",
    "    'customer_nationality',\n",
    "    'guest_nationality_country_name',\n",
    "    'origin_country_code',\n",
    "    'language',\n",
    "    'original_payment_method',\n",
    "    'original_payment_type',\n",
    "    'original_payment_currency',\n",
    "    'cancellation_policy_code'\n",
    "]\n",
    "\n",
    "# column names in the data that has date type\n",
    "date_type_cols = [\n",
    "    \"booking_datetime\",\n",
    "    \"checkin_date\",\n",
    "    \"checkout_date\",\n",
    "    \"hotel_live_date\",\n",
    "    \"cancellation_datetime\"\n",
    "]\n",
    "\n",
    "# the features of the preprocessed data\n",
    "selected_features = [\n",
    "    \"hotel_star_rating\",\n",
    "    \"guest_is_not_the_customer\",\n",
    "\n",
    "    \"no_of_adults\",\n",
    "    \"no_of_children\",\n",
    "    \"no_of_extra_bed\",\n",
    "    \"no_of_room\",\n",
    "\n",
    "    \"original_selling_amount\",\n",
    "    \"original_payment_currency\",\n",
    "    \n",
    "    \"is_user_logged_in\",\n",
    "    \"is_first_booking\",\n",
    "    \n",
    "    \"request_nonesmoke\",\n",
    "    \"request_latecheckin\",\n",
    "    \"request_highfloor\",\n",
    "    \"request_largebed\",\n",
    "    \"request_twinbeds\",\n",
    "    \"request_airport\",\n",
    "    \"request_earlycheckin\",\n",
    "\n",
    "    \"booking_month\",\n",
    "    \"booking_dayofweek\",\n",
    "    \"no_of_nights\",\n",
    "    \"checkin_since_booking\",\n",
    "\n",
    "    \"noshow_penalty\",\n",
    "    \"first_penalty\",\n",
    "    \"first_ndays\",\n",
    "    \"second_penalty\",\n",
    "    \"second_ndays\",\n",
    "    \n",
    "    \"original_payment_type_Credit Card\",\n",
    "    \"original_payment_type_Gift Card\",\n",
    "    \"original_payment_type_Invoice\",\n",
    "    \n",
    "    \"charge_option_Pay Later\",\n",
    "    \"charge_option_Pay Now\",\n",
    "    \n",
    "    \"accommadation_type_name_Apartment\",\n",
    "    \"accommadation_type_name_Guest House / Bed & Breakfast\",\n",
    "    \"accommadation_type_name_Hostel\",\n",
    "    \"accommadation_type_name_Hotel\",\n",
    "    \"accommadation_type_name_Resort\",\n",
    "    \"accommadation_type_name_Serviced Apartment\",\n",
    "    \"accommadation_type_name_other_accommadation\",\n",
    "]"
   ]
  },
  {
   "cell_type": "code",
   "execution_count": 19,
   "id": "0b734bb3-91d0-4c76-b953-357f39652a67",
   "metadata": {},
   "outputs": [],
   "source": [
    "X = pd.read_csv(\"../datasets/agoda_cancellation_train.csv\")\n"
   ]
  },
  {
   "cell_type": "code",
   "execution_count": 20,
   "id": "e25f1ab0-e6da-454d-97b3-30132f80fb33",
   "metadata": {},
   "outputs": [
    {
     "name": "stdout",
     "output_type": "stream",
     "text": [
      "      original_payment_currency  original_selling_amount\n",
      "0                           CNY                   267.55\n",
      "1                           ZAR                   114.15\n",
      "2                           KRW                   115.79\n",
      "3                           SGD                    68.74\n",
      "4                           THB                   127.76\n",
      "...                         ...                      ...\n",
      "58654                       IDR                    11.12\n",
      "58655                       PHP                    89.38\n",
      "58656                       CNY                   404.52\n",
      "58657                       MXN                    65.88\n",
      "58658                       HKD                   206.02\n",
      "\n",
      "[58659 rows x 2 columns]\n"
     ]
    }
   ],
   "source": [
    "money_clumns = [\"original_payment_currency\", \"original_selling_amount\"]\n",
    "print(X[money_clumns])"
   ]
  },
  {
   "cell_type": "code",
   "execution_count": 21,
   "id": "45fb4575-aa60-4681-be33-c07f7cb4a851",
   "metadata": {},
   "outputs": [
    {
     "name": "stdout",
     "output_type": "stream",
     "text": [
      "      original_payment_currency  original_selling_amount  selling_amount_USD\n",
      "0                           CNY                   267.55           38.447721\n",
      "1                           ZAR                   114.15            8.230527\n",
      "2                           KRW                   115.79            0.103342\n",
      "3                           SGD                    68.74           50.109345\n",
      "4                           THB                   127.76            3.875896\n",
      "...                         ...                      ...                 ...\n",
      "58654                       IDR                    11.12            0.000776\n",
      "58655                       PHP                    89.38            1.705367\n",
      "58656                       CNY                   404.52           58.130712\n",
      "58657                       MXN                    65.88            3.229459\n",
      "58658                       HKD                   206.02           26.333146\n",
      "\n",
      "[58659 rows x 3 columns]\n"
     ]
    }
   ],
   "source": [
    "# Adding a cloumn of the value of the deal in USD\n",
    "convert_currency_vector = np.vectorize(currency_convert_to_USD)\n",
    "X[\"selling_amount_USD\"] = convert_currency_vector(X[\"original_selling_amount\"], X[\"original_payment_currency\"])\n",
    "money_clumns.append(\"selling_amount_USD\")\n",
    "print(X[money_clumns])"
   ]
  },
  {
   "cell_type": "code",
   "execution_count": 65,
   "id": "547c369d-9139-49dd-8fb8-fc42223687aa",
   "metadata": {},
   "outputs": [
    {
     "name": "stdout",
     "output_type": "stream",
     "text": [
      "                     Location   Median\n",
      "0                  Luxembourg  259,899\n",
      "1                   Australia  238,072\n",
      "2                     Iceland  231,462\n",
      "3                     Belgium  230,548\n",
      "4                   Hong Kong  173,768\n",
      "..                        ...      ...\n",
      "163                Mozambique      345\n",
      "164                   Burundi      281\n",
      "165                   Lesotho      264\n",
      "166  Central African Republic      212\n",
      "167                     Haiti      193\n",
      "\n",
      "[168 rows x 2 columns]\n"
     ]
    }
   ],
   "source": [
    "wealthy = pd.read_csv(\"../challenge/wealthy_countries.csv\")\n",
    "print(wealthy)"
   ]
  },
  {
   "cell_type": "code",
   "execution_count": 71,
   "id": "44b3b3d6-83bc-4079-b6e1-44a30685e71c",
   "metadata": {
    "collapsed": true,
    "jupyter": {
     "outputs_hidden": true,
     "source_hidden": true
    },
    "tags": []
   },
   "outputs": [
    {
     "name": "stdout",
     "output_type": "stream",
     "text": [
      "            Country code\n",
      "0       Afghanistan   AF\n",
      "1           Albania   AL\n",
      "2           Algeria   DZ\n",
      "3    American Samoa   AS\n",
      "4           Andorra   AD\n",
      "..              ...  ...\n",
      "244  Western Sahara   EH\n",
      "245           Yemen   YE\n",
      "246          Zambia   ZM\n",
      "247        Zimbabwe   ZW\n",
      "248   Åland Islands   AX\n",
      "\n",
      "[249 rows x 2 columns]\n"
     ]
    }
   ],
   "source": [
    "country_code = pd.read_csv(\"../challenge/country_code.csv\")\n",
    "print(country_code)"
   ]
  },
  {
   "cell_type": "code",
   "execution_count": 54,
   "id": "277ff0eb-07a8-4937-82fa-826cd6c93d7e",
   "metadata": {},
   "outputs": [],
   "source": [
    "# wealthy_dict = dict()\n",
    "# for loc in wealthy[Location]:\n",
    "#     wealthy_dict[loc] = "
   ]
  },
  {
   "cell_type": "code",
   "execution_count": 78,
   "id": "f1be4931-8250-458b-9feb-a4f85876ea70",
   "metadata": {},
   "outputs": [
    {
     "data": {
      "text/plain": [
       "2    231,462\n",
       "Name: Median, dtype: object"
      ]
     },
     "execution_count": 78,
     "metadata": {},
     "output_type": "execute_result"
    }
   ],
   "source": [
    "wealthy[wealthy.Location ==\"Iceland\"].Median"
   ]
  },
  {
   "cell_type": "code",
   "execution_count": null,
   "id": "731d588f-e7a9-479b-9bf6-98e4ec48990c",
   "metadata": {},
   "outputs": [],
   "source": []
  }
 ],
 "metadata": {
  "kernelspec": {
   "display_name": "Python 3 (ipykernel)",
   "language": "python",
   "name": "python3"
  },
  "language_info": {
   "codemirror_mode": {
    "name": "ipython",
    "version": 3
   },
   "file_extension": ".py",
   "mimetype": "text/x-python",
   "name": "python",
   "nbconvert_exporter": "python",
   "pygments_lexer": "ipython3",
   "version": "3.7.11"
  }
 },
 "nbformat": 4,
 "nbformat_minor": 5
}
